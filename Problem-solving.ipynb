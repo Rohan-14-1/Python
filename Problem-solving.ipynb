{
  "nbformat": 4,
  "nbformat_minor": 0,
  "metadata": {
    "colab": {
      "provenance": []
    },
    "kernelspec": {
      "name": "python3",
      "display_name": "Python 3"
    },
    "language_info": {
      "name": "python"
    }
  },
  "cells": [
    {
      "cell_type": "markdown",
      "source": [
        "# **Problem solving**"
      ],
      "metadata": {
        "id": "RqkHqofShdEB"
      }
    },
    {
      "cell_type": "markdown",
      "source": [
        "1. write a program to display person name, age and adderss in three different line."
      ],
      "metadata": {
        "id": "ySmdzHdk3OLZ"
      }
    },
    {
      "cell_type": "code",
      "source": [
        "name = input(\"Enter your name \")\n",
        "age = int(input(\"Enter your age \"))\n",
        "address = input(\"Enter your address \")\n",
        "print(\"Name : \",name)\n",
        "print(\"Age : \",age)\n",
        "print(\"Address : \",address)"
      ],
      "metadata": {
        "id": "Z2IZSrCpaQbR",
        "outputId": "41288909-f05b-479d-8714-4261f17b5e55",
        "colab": {
          "base_uri": "https://localhost:8080/"
        }
      },
      "execution_count": 1,
      "outputs": [
        {
          "output_type": "stream",
          "name": "stdout",
          "text": [
            "Enter your name Ram\n",
            "Enter your age 19\n",
            "Enter your address lucknow\n",
            "Name :  Ram\n",
            "Age :  19\n",
            "Address :  lucknow\n"
          ]
        }
      ]
    },
    {
      "cell_type": "markdown",
      "source": [
        "2. Write the program to swap two variable."
      ],
      "metadata": {
        "id": "WK5cUYX1DpAu"
      }
    },
    {
      "cell_type": "code",
      "source": [
        "#Using tempory variable\n",
        "\n",
        "a = 12\n",
        "b = 13\n",
        "temp = a\n",
        "a=b\n",
        "b=temp\n",
        "print(a)\n",
        "print(b)"
      ],
      "metadata": {
        "id": "XV9LIIa5aS7A",
        "outputId": "1d94b487-8e92-4ff5-bd2c-706b3a1cac1d",
        "colab": {
          "base_uri": "https://localhost:8080/"
        }
      },
      "execution_count": 2,
      "outputs": [
        {
          "output_type": "stream",
          "name": "stdout",
          "text": [
            "13\n",
            "12\n"
          ]
        }
      ]
    },
    {
      "cell_type": "code",
      "source": [
        "#Without using tempory variable\n",
        "\n",
        "a = 12\n",
        "b = 13\n",
        "a,b = b,a\n",
        "print(a)\n",
        "print(b)"
      ],
      "metadata": {
        "id": "ZJHYy3m7aVbs",
        "outputId": "879d540b-c2df-4160-fa86-8fe72ae6bb49",
        "colab": {
          "base_uri": "https://localhost:8080/"
        }
      },
      "execution_count": 3,
      "outputs": [
        {
          "output_type": "stream",
          "name": "stdout",
          "text": [
            "13\n",
            "12\n"
          ]
        }
      ]
    },
    {
      "cell_type": "markdown",
      "source": [
        "3. Write a program to convert float in integer"
      ],
      "metadata": {
        "id": "dwLbR918FCv9"
      }
    },
    {
      "cell_type": "code",
      "source": [
        "a = float(input(\"Enter a number \"))\n",
        "a = int(a)\n",
        "print(a)\n",
        "print(type(a))"
      ],
      "metadata": {
        "colab": {
          "base_uri": "https://localhost:8080/"
        },
        "id": "aJqfOD7m3iQq",
        "outputId": "ac00726c-d048-44d0-981d-0980f749bebc"
      },
      "execution_count": 4,
      "outputs": [
        {
          "output_type": "stream",
          "name": "stdout",
          "text": [
            "Enter a number 12.5\n",
            "12\n",
            "<class 'int'>\n"
          ]
        }
      ]
    },
    {
      "cell_type": "markdown",
      "source": [
        "4. Write a program to take the details from the student for id-card and then print it in different line."
      ],
      "metadata": {
        "id": "1Wzc609hFwaU"
      }
    },
    {
      "cell_type": "code",
      "source": [
        "Name = input(\"Enter your name \")\n",
        "Age = int(input(\"Enter your age \"))\n",
        "Class = int(input(\"Enter your class \"))\n",
        "Section = input(\"Enter your section \")\n",
        "Address = input(\"Enter your address \")\n",
        "Cont_No = input(\"Enter your Contact number \")\n",
        "print(\"Name : \",Name)\n",
        "print(\"Age : \",Age)\n",
        "print(\"Class : \",Class)\n",
        "print(\"Section : \",Section)\n",
        "print(\"Address : \",Address)\n",
        "print(\"Contact number : \",Cont_No)\n"
      ],
      "metadata": {
        "colab": {
          "base_uri": "https://localhost:8080/"
        },
        "id": "bcupir-T3nH6",
        "outputId": "48f3ddc9-6cea-40f7-a9df-832d9eada022"
      },
      "execution_count": 5,
      "outputs": [
        {
          "output_type": "stream",
          "name": "stdout",
          "text": [
            "Enter your name Ram\n",
            "Enter your age 19\n",
            "Enter your class 14\n",
            "Enter your section D\n",
            "Enter your address lucknow\n",
            "Enter your Contact number 1234567890\n",
            "Name :  Ram\n",
            "Age :  19\n",
            "Class :  14\n",
            "Section :  D\n",
            "Address :  lucknow\n",
            "Contact number :  1234567890\n"
          ]
        }
      ]
    },
    {
      "cell_type": "markdown",
      "source": [
        "5. Write a program to take user input as a integer and then convert it into float"
      ],
      "metadata": {
        "id": "OewvP0swIDDY"
      }
    },
    {
      "cell_type": "code",
      "source": [
        "a =int(input(\"Enter any number\"))\n",
        "a = float(a)\n",
        "print(a)\n",
        "print(type(a))"
      ],
      "metadata": {
        "colab": {
          "base_uri": "https://localhost:8080/"
        },
        "id": "YI0q8SPr3tDd",
        "outputId": "6597ff9b-6417-42cc-a746-217034d86ab2"
      },
      "execution_count": 6,
      "outputs": [
        {
          "output_type": "stream",
          "name": "stdout",
          "text": [
            "Enter any number120\n",
            "120.0\n",
            "<class 'float'>\n"
          ]
        }
      ]
    }
  ]
}