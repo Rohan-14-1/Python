{
  "nbformat": 4,
  "nbformat_minor": 0,
  "metadata": {
    "colab": {
      "provenance": []
    },
    "kernelspec": {
      "name": "python3",
      "display_name": "Python 3"
    },
    "language_info": {
      "name": "python"
    }
  },
  "cells": [
    {
      "cell_type": "markdown",
      "source": [
        "# **TypeCasting and subtyping**"
      ],
      "metadata": {
        "id": "RqkHqofShdEB"
      }
    },
    {
      "cell_type": "code",
      "source": [
        "a = \"Ram\"           # we can use type to know which data type is a belong to.\n",
        "print(type(a))"
      ],
      "metadata": {
        "colab": {
          "base_uri": "https://localhost:8080/"
        },
        "id": "Z2IZSrCpaQbR",
        "outputId": "8c767a8c-201e-4139-8eba-6121b7de202a"
      },
      "execution_count": 1,
      "outputs": [
        {
          "output_type": "stream",
          "name": "stdout",
          "text": [
            "<class 'str'>\n"
          ]
        }
      ]
    },
    {
      "cell_type": "code",
      "source": [
        "#1.\tImplicite type conversion\n",
        "\n",
        "a = 23\n",
        "b = 12.3                #python it's self convert one data type to another.\n",
        "print(type(a))\n",
        "print(type(b))\n",
        "c = a+b\n",
        "print(c)\n",
        "print(type(c))"
      ],
      "metadata": {
        "colab": {
          "base_uri": "https://localhost:8080/"
        },
        "id": "XV9LIIa5aS7A",
        "outputId": "240b10ac-2c47-45e5-a3f8-119208da61a1"
      },
      "execution_count": 2,
      "outputs": [
        {
          "output_type": "stream",
          "name": "stdout",
          "text": [
            "<class 'int'>\n",
            "<class 'float'>\n",
            "35.3\n",
            "<class 'float'>\n"
          ]
        }
      ]
    },
    {
      "cell_type": "code",
      "source": [
        "#2.\tExplicit type conversion\n",
        "\n",
        "a = \"hARI\"           #user have to convert one data type to another.\n",
        "b = 12.3\n",
        "print(type(a))\n",
        "print(type(b))\n",
        "b = str(b)\n",
        "c = a+b\n",
        "print(c)\n",
        "print(type(c))"
      ],
      "metadata": {
        "colab": {
          "base_uri": "https://localhost:8080/"
        },
        "id": "ZJHYy3m7aVbs",
        "outputId": "50112fa0-1149-4d26-839d-3f514b541174"
      },
      "execution_count": 3,
      "outputs": [
        {
          "output_type": "stream",
          "name": "stdout",
          "text": [
            "<class 'str'>\n",
            "<class 'float'>\n",
            "hARI12.3\n",
            "<class 'str'>\n"
          ]
        }
      ]
    }
  ]
}