{
  "nbformat": 4,
  "nbformat_minor": 0,
  "metadata": {
    "colab": {
      "provenance": []
    },
    "kernelspec": {
      "name": "python3",
      "display_name": "Python 3"
    },
    "language_info": {
      "name": "python"
    }
  },
  "cells": [
    {
      "cell_type": "code",
      "execution_count": 1,
      "metadata": {
        "colab": {
          "base_uri": "https://localhost:8080/"
        },
        "id": "5kx31Sio3_Mw",
        "outputId": "c4ba8779-75be-43a8-8fb2-d100bb406442"
      },
      "outputs": [
        {
          "output_type": "stream",
          "name": "stdout",
          "text": [
            "Hello world\n"
          ]
        }
      ],
      "source": [
        "print(\"Hello world\")"
      ]
    },
    {
      "cell_type": "markdown",
      "source": [
        "Print Statement for multiple line."
      ],
      "metadata": {
        "id": "o_4Or9M54DeT"
      }
    },
    {
      "cell_type": "code",
      "source": [
        "print(\"\"\"Hello world           #use triple quotation for multiple line print statement.\n",
        "This is my first program\n",
        "learning python\"\"\")"
      ],
      "metadata": {
        "colab": {
          "base_uri": "https://localhost:8080/"
        },
        "id": "zjaS0Kr64EOU",
        "outputId": "a35fa0e9-3036-4488-81cd-7666b73e813d"
      },
      "execution_count": 2,
      "outputs": [
        {
          "output_type": "stream",
          "name": "stdout",
          "text": [
            "Hello world           #use triple quotation for multiple line print statement.\n",
            "This is my first program\n",
            "learning python\n"
          ]
        }
      ]
    },
    {
      "cell_type": "code",
      "source": [
        "print(\"Hello world\\nThis is my first program\\nlearning python\")   #use \\n for print multiple line."
      ],
      "metadata": {
        "colab": {
          "base_uri": "https://localhost:8080/"
        },
        "id": "_4mvpcDR4GJ7",
        "outputId": "0e309adb-4362-43af-cd39-9f6726969cd5"
      },
      "execution_count": 3,
      "outputs": [
        {
          "output_type": "stream",
          "name": "stdout",
          "text": [
            "Hello world\n",
            "This is my first program\n",
            "learning python\n"
          ]
        }
      ]
    },
    {
      "cell_type": "markdown",
      "source": [
        "Comment 1.single line comment use #. 2.Multiple line comment use ''' '''"
      ],
      "metadata": {
        "id": "-MjQHt2t4LWZ"
      }
    },
    {
      "cell_type": "markdown",
      "source": [
        "# **Variables**\n",
        "\n",
        "\n",
        ".variables are the placeholder, which can store a value.\n",
        "For example:\n",
        "\n",
        "---\n",
        "\n",
        "\n",
        "Input-\n",
        "A=”hello world”\n",
        "\n",
        "---\n",
        "\n",
        "\n",
        "Print(a)"
      ],
      "metadata": {
        "id": "JVibg4_z4PRi"
      }
    },
    {
      "cell_type": "markdown",
      "source": [
        "a=\"Hello world\"\n",
        "print(a)"
      ],
      "metadata": {
        "id": "xNA7G-yf4ZQ3"
      }
    },
    {
      "cell_type": "code",
      "source": [
        "a=\"Rohan\"                       #using f for multiple line print\n",
        "b=\"Mohan\"\n",
        "print(f\"{a} \\n {b}\")"
      ],
      "metadata": {
        "colab": {
          "base_uri": "https://localhost:8080/"
        },
        "id": "sA1dA28m4MTC",
        "outputId": "900657f5-c5da-4770-dd5e-ae6a2d689fbe"
      },
      "execution_count": 4,
      "outputs": [
        {
          "output_type": "stream",
          "name": "stdout",
          "text": [
            "Rohan \n",
            " Mohan\n"
          ]
        }
      ]
    },
    {
      "cell_type": "code",
      "source": [
        "print(\"\\\\n\")"
      ],
      "metadata": {
        "colab": {
          "base_uri": "https://localhost:8080/"
        },
        "id": "M7D9uke_4gGM",
        "outputId": "3cd3366e-996b-4ffe-9d76-138bb3e594a6"
      },
      "execution_count": 5,
      "outputs": [
        {
          "output_type": "stream",
          "name": "stdout",
          "text": [
            "\\n\n"
          ]
        }
      ]
    }
  ]
}