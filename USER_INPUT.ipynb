{
  "nbformat": 4,
  "nbformat_minor": 0,
  "metadata": {
    "colab": {
      "provenance": []
    },
    "kernelspec": {
      "name": "python3",
      "display_name": "Python 3"
    },
    "language_info": {
      "name": "python"
    }
  },
  "cells": [
    {
      "cell_type": "markdown",
      "source": [
        "# **USER-INPUT**"
      ],
      "metadata": {
        "id": "RqkHqofShdEB"
      }
    },
    {
      "cell_type": "code",
      "source": [
        "Name = input(\"enter your name : \")   # to take input from user we use input.\n",
        "print(\"Name : \",Name)\n"
      ],
      "metadata": {
        "colab": {
          "base_uri": "https://localhost:8080/"
        },
        "id": "VvnkrM7nhgz_",
        "outputId": "9f146d50-2097-4162-d792-84e5639f0119"
      },
      "execution_count": 1,
      "outputs": [
        {
          "output_type": "stream",
          "name": "stdout",
          "text": [
            "enter your name : rohan\n",
            "Name :  rohan\n"
          ]
        }
      ]
    },
    {
      "cell_type": "code",
      "source": [
        "Name = int(input(\"Enter your age \"))    # if you have to use different data type then mension it.\n",
        "print(\"Age : \",Name)"
      ],
      "metadata": {
        "colab": {
          "base_uri": "https://localhost:8080/"
        },
        "id": "khuCwuGMhjPz",
        "outputId": "2bd206a0-f3e6-4375-9dd1-583fb6918784"
      },
      "execution_count": 3,
      "outputs": [
        {
          "output_type": "stream",
          "name": "stdout",
          "text": [
            "Enter your age 19\n",
            "Age :  19\n"
          ]
        }
      ]
    },
    {
      "cell_type": "code",
      "source": [
        "length = float(input(\"enter the length of rectangle \"))      # if the input value is in decimal then use float.\n",
        "print(\"length of rectangle : \",length)"
      ],
      "metadata": {
        "colab": {
          "base_uri": "https://localhost:8080/"
        },
        "id": "2FFjF1OOhl7E",
        "outputId": "2bc0cef6-70ae-49e0-bfaa-bb9678df9153"
      },
      "execution_count": 4,
      "outputs": [
        {
          "output_type": "stream",
          "name": "stdout",
          "text": [
            "enter the length of rectangle 12\n",
            "length of rectangle :  12.0\n"
          ]
        }
      ]
    },
    {
      "cell_type": "code",
      "source": [
        "exp1 = eval(input(\"enter the expression : \"))   # we can use eval as to solve the equqtion like 2+3=5.\n",
        "print(exp1)"
      ],
      "metadata": {
        "colab": {
          "base_uri": "https://localhost:8080/"
        },
        "id": "YZ4Q_wVHhpyG",
        "outputId": "3c687dc1-e458-45f2-dc14-50073d4f870a"
      },
      "execution_count": 5,
      "outputs": [
        {
          "output_type": "stream",
          "name": "stdout",
          "text": [
            "enter the expression : 2+5\n",
            "7\n"
          ]
        }
      ]
    }
  ]
}